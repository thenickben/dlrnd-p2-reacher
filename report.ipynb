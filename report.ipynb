{
 "cells": [
  {
   "cell_type": "markdown",
   "metadata": {},
   "source": [
    "# Udacity Deep Reinforcement Learning ND\n",
    "## Project 2: Continuous Control\n",
    "\n",
    "### Author: Nicolas Benielli Borrajo\n",
    "\n",
    "------------------\n"
   ]
  },
  {
   "cell_type": "markdown",
   "metadata": {},
   "source": [
    "### Summary: \n",
    "In this notebook I implemented a **Deep Deterministic Policy Gradient** ([DDPG](https://arxiv.org/abs/1509.02971)) to solve Unity's *Reacher* environment for the case of a single agent. I explored hyperparameters that made the vanilla case (which is DDPG with Action Space Noise, a stochastic process added to the output of the Actor network), and then I introduceced two variations:\n",
    "\n",
    "\n",
    " - **Parameter Space Noise** ([PSN](https://arxiv.org/abs/1706.01905)), where the noise is added directly to the weights of the Actor network, and\n",
    " \n",
    " - **Prioritized Experience Replay** ([PER](https://arxiv.org/abs/1511.05952)], where the memory buffer is stored and sampled by following a distribution that assigns higher priority to transitions that result into higher TD errors.\n",
    "\n",
    "### Goal and Motivation:\n",
    "The main goal for this project is to assess the improvements on the learning algorithm by switching the exploration strategy from perturbating the actions to perturbating the actor weights in an adaptative way. My main motivation is that I have not seen PSN included in State-of-the-Art models, yet I find it a simple but versatile approach for the exploration problem. Also, I wanted to include a more advanced memory model than the uniformly-sampled used in the DDPG paper, so I explored the incorporation of PER into my learner.\n",
    "\n",
    "### Results:\n",
    "I conducted an ablation study in order to identify the individual contributions of both PSN and PER to the vanilla DDPG case. The number of episodes that took each agent to solve the environment are:\n",
    "\n",
    " \n",
    " 1. **Vanilla DDPG**: not solving - more than 1000 episodes\n",
    "\n",
    " 2. **DDPG with PSN**: 257 episodes\n",
    " \n",
    " 3. **DDPG with PER**: 452 episodes\n",
    " \n",
    " 4. **DDPG with PSN and PER**: 276 episodes"
   ]
  },
  {
   "cell_type": "markdown",
   "metadata": {},
   "source": [
    "## 1. Environment and Agent"
   ]
  },
  {
   "cell_type": "code",
   "execution_count": null,
   "metadata": {},
   "outputs": [],
   "source": [
    "!pip -q install ./python\n",
    "!pip install unityagents"
   ]
  },
  {
   "cell_type": "code",
   "execution_count": 7,
   "metadata": {
    "collapsed": true
   },
   "outputs": [],
   "source": [
    "import gym\n",
    "import random\n",
    "import torch\n",
    "from collections import deque\n",
    "import matplotlib.pyplot as plt\n",
    "%matplotlib inline\n",
    "from unityagents import UnityEnvironment"
   ]
  },
  {
   "cell_type": "markdown",
   "metadata": {},
   "source": [
    "Make environment using downloaded file:"
   ]
  },
  {
   "cell_type": "code",
   "execution_count": 8,
   "metadata": {},
   "outputs": [
    {
     "name": "stderr",
     "output_type": "stream",
     "text": [
      "INFO:unityagents:\n",
      "'Academy' started successfully!\n",
      "Unity Academy name: Academy\n",
      "        Number of Brains: 1\n",
      "        Number of External Brains : 1\n",
      "        Lesson number : 0\n",
      "        Reset Parameters :\n",
      "\t\tgoal_speed -> 1.0\n",
      "\t\tgoal_size -> 5.0\n",
      "Unity brain name: ReacherBrain\n",
      "        Number of Visual Observations (per agent): 0\n",
      "        Vector Observation space type: continuous\n",
      "        Vector Observation space size (per agent): 33\n",
      "        Number of stacked Vector Observation: 1\n",
      "        Vector Action space type: continuous\n",
      "        Vector Action space size (per agent): 4\n",
      "        Vector Action descriptions: , , , \n"
     ]
    }
   ],
   "source": [
    "#env = UnityEnvironment(file_name='/data/Reacher_One_Linux_NoVis/Reacher_One_Linux_NoVis.x86_64')\n",
    "env = UnityEnvironment(file_name='Reacher_Windows_x86_64/Reacher')\n"
   ]
  },
  {
   "cell_type": "markdown",
   "metadata": {},
   "source": [
    "Env info:"
   ]
  },
  {
   "cell_type": "code",
   "execution_count": 9,
   "metadata": {},
   "outputs": [
    {
     "name": "stdout",
     "output_type": "stream",
     "text": [
      "State size: 33 Action_size: 4\n"
     ]
    }
   ],
   "source": [
    "brain_name = env.brain_names[0]\n",
    "brain = env.brains[brain_name]\n",
    "\n",
    "# reset the environment\n",
    "env_info = env.reset(train_mode=True)[brain_name]\n",
    "\n",
    "# number of agents\n",
    "num_agents = len(env_info.agents)\n",
    "\n",
    "# size of each action\n",
    "action_size = brain.vector_action_space_size\n",
    "\n",
    "# examine the state space \n",
    "states = env_info.vector_observations\n",
    "state_size = states.shape[1]\n",
    "\n",
    "print('State size:', state_size, 'Action_size:', action_size)"
   ]
  },
  {
   "cell_type": "markdown",
   "metadata": {},
   "source": [
    "### Actor and Critic networks"
   ]
  },
  {
   "cell_type": "code",
   "execution_count": 10,
   "metadata": {
    "collapsed": true
   },
   "outputs": [],
   "source": [
    "import torch\n",
    "import torch.nn as nn\n",
    "import torch.nn.functional as F\n",
    "import numpy as np\n",
    "\n",
    "def hidden_init(layer):\n",
    "    fan_in = layer.weight.data.size()[0]\n",
    "    lim = 1. / np.sqrt(fan_in)\n",
    "    return (-lim, lim)\n",
    "\n",
    "class Actor(nn.Module):\n",
    "    \"\"\"Actor (Policy) Model.\"\"\"\n",
    "\n",
    "    def __init__(self, state_size, action_size, seed, fc1_units=128, fc2_units=128):\n",
    "        \"\"\"Initialize parameters and build model.\"\"\"\n",
    "        super(Actor, self).__init__()\n",
    "        self.seed = torch.manual_seed(seed)\n",
    "        self.fc1 = nn.Linear(state_size, fc1_units)\n",
    "        self.fc2 = nn.Linear(fc1_units, fc2_units)\n",
    "        self.fc3 = nn.Linear(fc2_units, action_size)\n",
    "        self.bn1 = nn.BatchNorm1d(fc1_units)\n",
    "        self.reset_parameters()\n",
    "\n",
    "    def reset_parameters(self):\n",
    "        self.fc1.weight.data.uniform_(*hidden_init(self.fc1))\n",
    "        self.fc2.weight.data.uniform_(*hidden_init(self.fc2))\n",
    "        self.fc3.weight.data.uniform_(-3e-3, 3e-3)\n",
    "\n",
    "    def forward(self, state):\n",
    "        \"\"\"Build an actor (policy) network that maps states -> actions.\"\"\"\n",
    "        x = F.relu(self.bn1(self.fc1(state)))\n",
    "        x = F.relu(self.fc2(x))\n",
    "        return torch.tanh(self.fc3(x))\n",
    "\n",
    "\n",
    "class Critic(nn.Module):\n",
    "    \"\"\"Critic (Value) Model.\"\"\"\n",
    "\n",
    "    def __init__(self, state_size, action_size, seed, fcs1_units=128, fc2_units=128):\n",
    "        \"\"\"Initialize parameters and build model.\"\"\"\n",
    "        super(Critic, self).__init__()\n",
    "        self.seed = torch.manual_seed(seed)\n",
    "        self.fcs1 = nn.Linear(state_size, fcs1_units)\n",
    "        self.fc2 = nn.Linear(fcs1_units+action_size, fc2_units)\n",
    "        self.fc3 = nn.Linear(fc2_units, 1)\n",
    "        self.bn1 = nn.BatchNorm1d(fcs1_units)\n",
    "        self.reset_parameters()\n",
    "\n",
    "    def reset_parameters(self):\n",
    "        self.fcs1.weight.data.uniform_(*hidden_init(self.fcs1))\n",
    "        self.fc2.weight.data.uniform_(*hidden_init(self.fc2))\n",
    "        self.fc3.weight.data.uniform_(-3e-3, 3e-3)\n",
    "\n",
    "    def forward(self, state, action):\n",
    "        \"\"\"Build a critic (value) network that maps (state, action) pairs -> Q-values.\"\"\"\n",
    "        xs = F.relu(self.bn1(self.fcs1(state)))\n",
    "        x = torch.cat((xs, action), dim=1)\n",
    "        x = F.relu(self.fc2(x))\n",
    "        return self.fc3(x)"
   ]
  },
  {
   "cell_type": "markdown",
   "metadata": {},
   "source": [
    "### Noise models"
   ]
  },
  {
   "cell_type": "code",
   "execution_count": 12,
   "metadata": {
    "collapsed": true
   },
   "outputs": [],
   "source": [
    "import numpy as np\n",
    "import random\n",
    "import copy\n",
    "import torch\n",
    "\n",
    "device = torch.device(\"cuda:0\" if torch.cuda.is_available() else \"cpu\")\n",
    "\n",
    "class OUNoise:\n",
    "    \"\"\"Ornstein-Uhlenbeck process.\"\"\"\n",
    "\n",
    "    def __init__(self, size, seed, mu=0., theta=0.2, sigma=0.1):\n",
    "        \"\"\"Initialize parameters and noise process.\"\"\"\n",
    "        self.mu = mu * np.ones(size)\n",
    "        self.theta = theta\n",
    "        self.sigma = sigma\n",
    "        self.seed = random.seed(seed)\n",
    "        self.reset()\n",
    "\n",
    "    def reset(self):\n",
    "        \"\"\"Reset the internal state (= noise) to mean (mu).\"\"\"\n",
    "        self.state = copy.copy(self.mu)\n",
    "\n",
    "    def sample(self, epsilon = 1.0):\n",
    "        \"\"\"Update internal state and return it as a noise sample.\"\"\"\n",
    "        x = self.state\n",
    "        #dx = self.theta * (self.mu - x) + self.sigma * np.array([random.random() for i in range(len(x))])\n",
    "        dx = epsilon*(self.theta * (self.mu - x) + self.sigma * np.array([random.random() for i in range(len(x))]))\n",
    "        self.state = x + dx\n",
    "        return self.state\n",
    "\n",
    "class PSNoise:\n",
    "    \"\"\"Parameter Space Noise\"\"\"\n",
    "\n",
    "    def __init__(self, state_size, action_size, seed, sigma=0.1, scalar = 1.01, treshold = 0.3):\n",
    "        \"\"\"Initialize parameters and noise process.\"\"\"\n",
    "        self.state_size = state_size\n",
    "        self.action_size = action_size\n",
    "        self.sigma = sigma\n",
    "        self.treshold = treshold\n",
    "        self.scalar = scalar\n",
    "        self.adapt_step = 0\n",
    "        self.policy_pert = Actor(self.state_size, self.action_size, seed).to(device)\n",
    "           \n",
    "    def reset(self, policy):\n",
    "        \"\"\"Perturbate actor's fc layer at the beginning of the episode\"\"\"\n",
    "        with torch.no_grad():\n",
    "            for param in policy.parameters():\n",
    "                noise = torch.randn(param.size()) * self.sigma\n",
    "                param.add_(noise.float().to(device))\n",
    "\n",
    "        \n",
    "    def get_distance(self, action_size, policy, states_batch, sigma):\n",
    "        \"\"\"Computes distance between perturbed and non-perturbed policies\"\"\" \n",
    "        actions_no_pert = policy(states_batch).cpu().data.numpy()\n",
    "        \n",
    "        #copy weights\n",
    "        with torch.no_grad():\n",
    "            for param_nonpert, param_pert in zip(policy.parameters(), self.policy_pert.parameters()):\n",
    "                param_pert.data.copy_(param_nonpert.data)\n",
    "      \n",
    "      \n",
    "        #perturbed policy\n",
    "        with torch.no_grad():\n",
    "            for param_pert in self.policy_pert.parameters():\n",
    "                noise = torch.randn(param_pert.size()) * self.sigma\n",
    "                param_pert.add_(noise.float().to(device))\n",
    "      \n",
    "        actions_pert = self.policy_pert(states_batch).cpu().data.numpy()\n",
    "      \n",
    "        distance = np.sqrt(np.mean((actions_no_pert - actions_pert)**2))\n",
    "      \n",
    "        return distance \n",
    "      \n",
    "      \n",
    "    def adapt(self, distance):\n",
    "        \"\"\"Updates sigma\"\"\"\n",
    "        if distance <= self.treshold:\n",
    "            self.sigma = self.scalar * self.sigma\n",
    "        else:\n",
    "            self.sigma = self.sigma / self.scalar\n",
    "        self.treshold = self.sigma\n",
    "    \n",
    "    \n",
    "    def update_noise(self, policy, states_batch):\n",
    "        \"\"\"Adaptative scaling\"\"\"\n",
    "                          \n",
    "        self.adapt_step = (self.adapt_step + 1) % ADAPT_EVERY\n",
    "        #change sigma (adapt)\n",
    "        if self.adapt_step == 0:   \n",
    "          #compute distance\n",
    "          distance = self.get_distance(self.action_size, policy, states_batch, sigma = self.sigma)\n",
    "          \n",
    "          self.distance = distance\n",
    "          \n",
    "          #update sigma\n",
    "          self.adapt(distance)\n",
    "          \n",
    "          #perturbed policy with updated sigma\n",
    "          with torch.no_grad():\n",
    "            for param in agent.actor_local.parameters():\n",
    "                noise = torch.randn(param.size()) * self.sigma\n",
    "                param.add_(noise.float().to(device))"
   ]
  },
  {
   "cell_type": "markdown",
   "metadata": {},
   "source": [
    "### Memory models"
   ]
  },
  {
   "cell_type": "code",
   "execution_count": 13,
   "metadata": {
    "collapsed": true
   },
   "outputs": [],
   "source": [
    "import numpy as np\n",
    "from collections import namedtuple, deque\n",
    "import random\n",
    "import torch\n",
    "\n",
    "device = torch.device(\"cuda:0\" if torch.cuda.is_available() else \"cpu\")\n",
    "\n",
    "class ReplayBuffer:\n",
    "    \"\"\"Fixed-size buffer to store experience tuples.\"\"\"\n",
    "\n",
    "    def __init__(self, action_size, buffer_size, batch_size, seed):\n",
    "        \"\"\"Initialize a ReplayBuffer object.\"\"\"\n",
    "\n",
    "        self.action_size = action_size\n",
    "        self.memory = deque(maxlen=buffer_size)  # internal memory (deque)\n",
    "        self.batch_size = batch_size\n",
    "        self.experience = namedtuple(\"Experience\", field_names=[\"state\", \"action\", \"reward\", \"next_state\", \"done\"])\n",
    "        self.seed = random.seed(seed)\n",
    "    \n",
    "    def add(self, state, action, reward, next_state, done):\n",
    "        \"\"\"Add a new experience to memory.\"\"\"\n",
    "        e = self.experience(state, action, reward, next_state, done)\n",
    "        self.memory.append(e)\n",
    "    \n",
    "    def sample(self):\n",
    "        \"\"\"Randomly sample a batch of experiences from memory.\"\"\"\n",
    "        experiences = random.sample(self.memory, k=self.batch_size)\n",
    "\n",
    "        states = torch.from_numpy(np.vstack([e.state for e in experiences if e is not None])).float().to(device)\n",
    "        actions = torch.from_numpy(np.vstack([e.action for e in experiences if e is not None])).float().to(device)\n",
    "        rewards = torch.from_numpy(np.vstack([e.reward for e in experiences if e is not None])).float().to(device)\n",
    "        next_states = torch.from_numpy(np.vstack([e.next_state for e in experiences if e is not None])).float().to(device)\n",
    "        dones = torch.from_numpy(np.vstack([e.done for e in experiences if e is not None]).astype(np.uint8)).float().to(device)\n",
    "\n",
    "        return (states, actions, rewards, next_states, dones)\n",
    "\n",
    "    def __len__(self):\n",
    "        \"\"\"Return the current size of internal memory.\"\"\"\n",
    "        return len(self.memory)\n",
    "\n",
    "class ReplayBufferPE:\n",
    "    \"\"\"Fixed-size buffer to store experience tuples and sample with proportional prioritization.\"\"\"\n",
    "\n",
    "    def __init__(self, action_size, buffer_size, batch_size, seed, alpha):\n",
    "        \"\"\"Initialize a ReplayBuffer object.\"\"\"\n",
    "\n",
    "        self.action_size = action_size\n",
    "        self.memory = deque(maxlen=buffer_size)      # internal memory for S,A,R,S',done (deque)\n",
    "        self.priorities = deque(maxlen=buffer_size)  # internal memory priorities (deque)\n",
    "        self.batch_size = batch_size\n",
    "        self.experience = namedtuple(\"Experience\", field_names=[\"state\", \"action\", \"reward\", \"next_state\", \"done\"])\n",
    "        self.seed = random.seed(seed)\n",
    "        self.alpha = max(0., alpha)\n",
    "        self.max_priority = 1.0**self.alpha\n",
    "        self.cum_priorities = 0.\n",
    "        self.epsilon = 1e-6\n",
    "        self.experiences_idx = []\n",
    "   \n",
    "    def add(self, state, action, reward, next_state, done):\n",
    "        \"\"\"Add a new experience to memory.\"\"\"\n",
    "        # Add experience\n",
    "        e = self.experience(state, action, reward, next_state, done)\n",
    "        self.memory.append(e)\n",
    "        # Update priorities and cum_priorities\n",
    "        self.priorities.append(self.max_priority)\n",
    "        # Accumulate the priorities\n",
    "        self.cum_priorities = np.sum(self.priorities)\n",
    "    \n",
    "    def sample(self):\n",
    "        \"\"\"Randomly sample a batch of experiences from memory.\"\"\"\n",
    "        probs = np.array(self.priorities) / self.cum_priorities\n",
    "        len_memory = len(self.memory)\n",
    "        self.experiences_idx = np.random.choice(len_memory, min(len_memory, self.batch_size), p = probs)\n",
    "        experiences = [self.memory[i] for i in self.experiences_idx]\n",
    "\n",
    "        states = torch.from_numpy(np.vstack([e.state for e in experiences if e is not None])).float().to(device)\n",
    "        actions = torch.from_numpy(np.vstack([e.action for e in experiences if e is not None])).float().to(device)\n",
    "        rewards = torch.from_numpy(np.vstack([e.reward for e in experiences if e is not None])).float().to(device)\n",
    "        next_states = torch.from_numpy(np.vstack([e.next_state for e in experiences if e is not None])).float().to(device)\n",
    "        dones = torch.from_numpy(np.vstack([e.done for e in experiences if e is not None]).astype(np.uint8)).float().to(device)\n",
    "\n",
    "        return (states, actions, rewards, next_states, dones)\n",
    "\n",
    "    def get_weights(self, beta):\n",
    "        \"\"\"Returns Importance Sampling weights wi\"\"\"\n",
    "        len_memory = len(self.memory)\n",
    "        max_weight = (len_memory * min(self.priorities) / self.cum_priorities) ** beta\n",
    "        weights = np.array([((len_memory * (self.priorities[i] / self.cum_priorities))**(-beta))/max_weight for i in self.experiences_idx])\n",
    "        return torch.from_numpy(weights).float().to(device)\n",
    "    \n",
    "    def update_priorities(self, td_errors):\n",
    "        \"\"\" Update priorities of sampled transitions \"\"\"\n",
    "\n",
    "        for i, td_error in zip(self.experiences_idx, td_errors):\n",
    "            td_error = float(td_error)\n",
    "            self.cum_priorities -= self.priorities[i]\n",
    "            self.priorities[i] = ((abs(td_error) + self.epsilon) ** self.alpha)\n",
    "            self.cum_priorities += self.priorities[i]\n",
    "        #update max priority value\n",
    "        self.max_priority = max(self.priorities)\n",
    "    \n",
    "    def __len__(self):\n",
    "        \"\"\"Return the current size of internal memory.\"\"\"\n",
    "        return len(self.memory)"
   ]
  },
  {
   "cell_type": "markdown",
   "metadata": {},
   "source": [
    "### DDPG Agent"
   ]
  },
  {
   "cell_type": "code",
   "execution_count": 14,
   "metadata": {
    "collapsed": true
   },
   "outputs": [],
   "source": [
    "import random\n",
    "import copy\n",
    "from collections import namedtuple, deque\n",
    "import numpy as np\n",
    "import torch\n",
    "import torch.nn.functional as F\n",
    "import torch.optim as optim\n",
    "\n",
    "device = torch.device(\"cuda:0\" if torch.cuda.is_available() else \"cpu\")\n",
    "\n",
    "class Agent():\n",
    "    \"\"\"Interacts with and learns from the environment.\"\"\"\n",
    "    \n",
    "    def __init__(self, state_size, action_size, random_seed, add_noise = True, PER = False, PSN = True):\n",
    "        \"\"\"Initialize an Agent object.\"\"\"\n",
    "        self.state_size = state_size\n",
    "        self.action_size = action_size\n",
    "        self.seed = random.seed(random_seed)\n",
    "        self.add_noise = add_noise\n",
    "\n",
    "        # Actor Network (w/ Target Network)\n",
    "        self.actor_local = Actor(state_size, action_size, random_seed).to(device)\n",
    "        self.actor_target = Actor(state_size, action_size, random_seed).to(device)\n",
    "        self.actor_optimizer = optim.Adam(self.actor_local.parameters(), lr=LR_ACTOR)\n",
    "\n",
    "        # Critic Network (w/ Target Network)\n",
    "        self.critic_local = Critic(state_size, action_size, random_seed).to(device)\n",
    "        self.critic_target = Critic(state_size, action_size, random_seed).to(device)\n",
    "        self.critic_optimizer = optim.Adam(self.critic_local.parameters(), lr=LR_CRITIC, weight_decay=WEIGHT_DECAY)\n",
    "\n",
    "        # Noise process\n",
    "        self.PSN = PSN\n",
    "        if self.add_noise:\n",
    "            if self.PSN:\n",
    "                self.noise = PSNoise(state_size, action_size, random_seed)\n",
    "            else:\n",
    "                self.noise = OUNoise(action_size, random_seed)\n",
    "          \n",
    "        # Replay memory\n",
    "        self.PER = PER\n",
    "        if self.PER:\n",
    "            self.memory = ReplayBufferPE(action_size, BUFFER_SIZE, BATCH_SIZE, random_seed, alpha = ALPHA)\n",
    "            self.beta = BETA_INITIAL\n",
    "        else:\n",
    "            self.memory = ReplayBuffer(action_size, BUFFER_SIZE, BATCH_SIZE, random_seed)\n",
    "        \n",
    "        # Initialize learning steps \n",
    "        self.learn_step = 0  \n",
    "    \n",
    "    def reset(self):\n",
    "        if self.add_noise:\n",
    "            if self.PSN:\n",
    "                self.noise.reset(self.actor_local)\n",
    "            else:\n",
    "                self.noise.reset()    \n",
    "    \n",
    "    def step(self, state, action, reward, next_state, done):\n",
    "        \"\"\"Save experience in replay memory, and use random sample from buffer to learn.\"\"\"\n",
    "        # Save experience / reward\n",
    "        self.memory.add(state, action, reward, next_state, done)\n",
    "        \n",
    "        if len(self.memory) > BATCH_SIZE:\n",
    "            # Learn, if enough samples are available in memory for number of timesteps\n",
    "            for _ in range(STEPS_UPDATE):\n",
    "                experiences = self.memory.sample()\n",
    "                self.learn(experiences, GAMMA)\n",
    "        \n",
    "    def act(self, state, epsilon = 1, add_noise=True):\n",
    "        \"\"\"Returns actions for given state as per current policy.\"\"\"\n",
    "        state = torch.from_numpy(state).float().to(device)\n",
    "        self.actor_local.eval()\n",
    "        \n",
    "        #If add_noise = True:\n",
    "        if self.add_noise:\n",
    "          #Add AS or PS noise:\n",
    "          if self.PSN:\n",
    "            # Parameter Space Noise\n",
    "            if len(self.memory) > BATCH_SIZE:\n",
    "              # PS noise needs to sample from memory to perturbate actor weights\n",
    "              self.noise.update_noise(self.actor_local, states_batch = self.memory.sample()[0])\n",
    "            with torch.no_grad():\n",
    "                action = self.actor_local(state).cpu().data.numpy()\n",
    "            self.actor_local.train()\n",
    "          # Action Space Noise\n",
    "          else:\n",
    "            with torch.no_grad():\n",
    "                action = self.actor_local(state).cpu().data.numpy()\n",
    "            self.actor_local.train()\n",
    "            action += self.noise.sample(epsilon)\n",
    "        #If add_noise = False, no noise is added\n",
    "        else:\n",
    "            with torch.no_grad():\n",
    "                action = self.actor_local(state).cpu().data.numpy()\n",
    "\n",
    "        #For all cases, return clipped action      \n",
    "        return np.clip(action, -1, 1)\n",
    "\n",
    "    def learn(self, experiences, gamma):\n",
    "        \"\"\"Update policy and value parameters using given batch of experience tuples.\"\"\"    \n",
    "        \n",
    "        states, actions, rewards, next_states, dones = experiences\n",
    "               \n",
    "        # Get predicted next-state actions and Q values from target models\n",
    "        actions_next = self.actor_target(next_states)\n",
    "        Q_targets_next = self.critic_target(next_states, actions_next)\n",
    "        # Compute Q targets for current states (y_i)\n",
    "        Q_targets = rewards + (gamma * Q_targets_next * (1 - dones))\n",
    "        # Compute Q expected\n",
    "        Q_expected = self.critic_local(states, actions)\n",
    "        \n",
    "        # Compute critic loss        \n",
    "        if self.PER:\n",
    "          # Update Beta\n",
    "          self.beta += BETA_INCREMENT\n",
    "          # Get RB weights\n",
    "          weights = self.memory.get_weights(self.beta)\n",
    "          # Clip abs(TD_errors)\n",
    "          TD_errors = torch.clamp(torch.abs(Q_targets - Q_expected), min=0., max=1.)\n",
    "          # Update replay buffer with proportional probs\n",
    "          self.memory.update_priorities(TD_errors)\n",
    "          #compute weighted mse loss     \n",
    "          critic_loss = torch.mean(weights * (Q_expected - Q_targets) ** 2)\n",
    "        else:\n",
    "          #compute mse loss  \n",
    "          critic_loss = F.mse_loss(Q_expected, Q_targets)\n",
    "        \n",
    "        # Minimize critic loss\n",
    "        self.critic_optimizer.zero_grad()\n",
    "        critic_loss.backward()\n",
    "        # Clip critic gradient\n",
    "        torch.nn.utils.clip_grad_norm(self.critic_local.parameters(), 1)\n",
    "        self.critic_optimizer.step()\n",
    "\n",
    "        # Compute actor loss\n",
    "        actions_pred = self.actor_local(states)\n",
    "        actor_loss = -self.critic_local(states, actions_pred).mean() #NEGATIVE: gradiet ascent\n",
    "        \n",
    "        # Minimize actor loss\n",
    "        self.actor_optimizer.zero_grad()\n",
    "        actor_loss.backward()\n",
    "        self.actor_optimizer.step()\n",
    "\n",
    "        # Soft updates for target networks\n",
    "        self.soft_update(self.critic_local, self.critic_target, TAU)\n",
    "        self.soft_update(self.actor_local, self.actor_target, TAU)                     \n",
    "\n",
    "    def soft_update(self, local_model, target_model, tau):\n",
    "        \"\"\"Soft update model parameters \"\"\"\n",
    "        for target_param, local_param in zip(target_model.parameters(), local_model.parameters()):\n",
    "            target_param.data.copy_(tau*local_param.data + (1.0-tau)*target_param.data)\n"
   ]
  },
  {
   "cell_type": "markdown",
   "metadata": {},
   "source": [
    "### Utils"
   ]
  },
  {
   "cell_type": "code",
   "execution_count": 35,
   "metadata": {
    "collapsed": true
   },
   "outputs": [],
   "source": [
    "import pandas as pd\n",
    "\n",
    "def train(env, agent, n_episodes=500, max_t=1000):\n",
    "    scores_deque = deque(maxlen=100)\n",
    "    scores_list = []\n",
    "    max_score = -np.Inf\n",
    "    epsilon = 1.0\n",
    "    for i_episode in range(1, n_episodes+1):\n",
    "        env_info = env.reset(train_mode=True)[brain_name]      # reset the environment    \n",
    "        states = env_info.vector_observations                  # get the current state (for each agent)\n",
    "        scores = np.zeros(num_agents)                          # initialize the score (for each agent)\n",
    "        agent.reset()\n",
    "        for t in range(max_t):\n",
    "            actions = agent.act(states, epsilon)\n",
    "            env_info = env.step(actions)[brain_name]           # send all actions to tne environment\n",
    "            next_states = env_info.vector_observations         # get next state (for each agent)\n",
    "            rewards = env_info.rewards                         # get reward (for each agent)\n",
    "            dones = env_info.local_done                        # see if episode finished\n",
    "\n",
    "            agent.step(states, actions, rewards, next_states, dones)\n",
    "            states = next_states\n",
    "            scores += rewards\n",
    "            \n",
    "            if np.any(dones):\n",
    "                break\n",
    "                \n",
    "        score = np.mean(scores)\n",
    "        scores_deque.append(score)\n",
    "        scores_list.append(score)\n",
    "        epsilon *= 0.999\n",
    "        \n",
    "        print('\\rEpisode {}\\tAverage Score: {:.2f}'.format(i_episode, np.mean(scores_deque)), end=\"\")\n",
    "        if i_episode % 100 == 0:\n",
    "            print('\\rEpisode {}\\tAverage Score: {:.2f}'.format(i_episode, np.mean(scores_deque)))   \n",
    "        if np.mean(scores_deque) >= 31:\n",
    "            print('\\nEnvironment solved in {:d} episodes!\\tAverage Score: {:.2f}'.format(i_episode, np.mean(scores_deque)))\n",
    "            torch.save(agent.actor_local.state_dict(), 'checkpoint_actor.pth')\n",
    "            torch.save(agent.critic_local.state_dict(), 'checkpoint_critic.pth')\n",
    "            break\n",
    "        \n",
    "    return scores_list\n",
    "\n",
    "def save_weights(agent, test_name):\n",
    "    actor_name = 'weights_actor_'+str(test_name)+'.pth'\n",
    "    critic_name = 'weights_critic_'+str(test_name)+'.pth'\n",
    "    torch.save(agent.actor_local.state_dict(), actor_name)\n",
    "    torch.save(agent.critic_local.state_dict(), critic_name)\n",
    "\n",
    "def save_scores(scores, test_name):\n",
    "    scores = pd.DataFrame({'Scores':scores})\n",
    "    scores_name = str(test_name)+'-scores.csv'\n",
    "    scores.to_csv(scores_name, sep=',')\n",
    "    print('Learning curve saved in', scores_name)\n",
    "\n",
    "def plot_smooth(scores, test_name, smoothing_window = 10):\n",
    "    scores = pd.DataFrame({'Scores':scores})\n",
    "    fig = plt.figure(figsize=(10,5))\n",
    "    plt.grid(True)\n",
    "    plt.style.use('seaborn-bright')\n",
    "    rewards_smoothed = scores.rolling(smoothing_window, min_periods=smoothing_window).mean()\n",
    "    plt.plot(rewards_smoothed)\n",
    "    plt.xlabel(\"Episode\")\n",
    "    plt.ylabel(\"Episode Reward (Smoothed)\")\n",
    "    plt.title(\"Episode Reward over Time (Smoothed over window size {})\".format(smoothing_window))\n",
    "    plot_name = str(test_name)+'-plot.png'\n",
    "    plt.savefig(plot_name)\n",
    "\n",
    "def plot_rewards(test_names, smoothing_window = 100): \n",
    "    #create df from test names\n",
    "    plot_df = pd.DataFrame()\n",
    "    for model in test_names:\n",
    "        name = model +'-scores.csv'\n",
    "        scores = pd.read_csv(name, index_col=None)\n",
    "        scores = pd.Series(scores['Scores'])\n",
    "        plot_df = pd.concat([plot_df, scores], axis=1)\n",
    "    plot_df.columns = test_names  \n",
    "    #plot    \n",
    "    legends = test_names \n",
    "    fig = plt.figure(figsize=(10,5))\n",
    "    plt.grid(False)\n",
    "    plt.style.use('seaborn-bright')\n",
    "    rewards_smoothed = plot_df.rolling(smoothing_window, min_periods=smoothing_window).mean()\n",
    "    plt.plot(rewards_smoothed)\n",
    "    plt.axhline(y=30, color='g', linestyle='--')\n",
    "    plt.title(\"Episode Reward over Time (Smoothed over window size {})\".format(smoothing_window))\n",
    "    plt.xlabel(\"Episode\")\n",
    "    plt.ylabel(\"Episode Reward (Smoothed)\")\n",
    "    plt.legend(legends)\n",
    "    plt.savefig('results.png')\n",
    "    \n",
    "def set_hyperparameters():\n",
    "    BUFFER_SIZE = int(1e6)  # replay buffer size\n",
    "    BATCH_SIZE = 128       # minibatch size\n",
    "    GAMMA = 0.99            # discount factor\n",
    "    TAU = 1e-3              # for soft update of target parameters\n",
    "    LR_ACTOR = 2e-4         # learning rate of the actor \n",
    "    LR_CRITIC = 2e-4        # learning rate of the critic\n",
    "    WEIGHT_DECAY = 0        # L2 weight decay\n",
    "    BETA_INITIAL = 0.0      # Prioritized Experience Replay initial weight decay\n",
    "    BETA_INCREMENT = 1e-6   # Step-wise Beta increment\n",
    "    ALPHA = 0.3             # Prioritized Experience Replay weight sampling importance\n",
    "    ADAPT_EVERY = 100       # Frequency for adapting Parameter Space Noise weights\n",
    "    STEPS_UPDATE = 1        # Frequency for updating critic network"
   ]
  },
  {
   "cell_type": "markdown",
   "metadata": {},
   "source": [
    "## 2. Results"
   ]
  },
  {
   "cell_type": "markdown",
   "metadata": {},
   "source": [
    "### 2.1 First case: Vanilla DDPG\n",
    "\n",
    "In this case, I'll train an agent that implements a DDPG method with a vanilla Replay Buffer memory (```PER=False```) and action space noise following an OU process (```add_noise = True; PSN=False```)"
   ]
  },
  {
   "cell_type": "code",
   "execution_count": 22,
   "metadata": {
    "collapsed": true
   },
   "outputs": [],
   "source": [
    "set_hyperparameters()\n",
    "\n",
    "#Instantiate agent\n",
    "agent = Agent(state_size=state_size, action_size=action_size, random_seed=1, add_noise = True, PER=False, PSN = False)"
   ]
  },
  {
   "cell_type": "markdown",
   "metadata": {},
   "source": [
    "#### Train"
   ]
  },
  {
   "cell_type": "code",
   "execution_count": 14,
   "metadata": {},
   "outputs": [
    {
     "name": "stderr",
     "output_type": "stream",
     "text": [
      "/opt/conda/lib/python3.6/site-packages/ipykernel_launcher.py:131: UserWarning: torch.nn.utils.clip_grad_norm is now deprecated in favor of torch.nn.utils.clip_grad_norm_.\n"
     ]
    },
    {
     "name": "stdout",
     "output_type": "stream",
     "text": [
      "Episode 100\tAverage Score: 3.01\n",
      "Episode 200\tAverage Score: 5.85\n",
      "Episode 300\tAverage Score: 6.78\n",
      "Episode 400\tAverage Score: 8.12\n",
      "Episode 500\tAverage Score: 9.05\n",
      "Episode 600\tAverage Score: 11.34\n",
      "Episode 700\tAverage Score: 13.90\n",
      "Episode 800\tAverage Score: 15.71\n",
      "Episode 900\tAverage Score: 21.28\n",
      "Episode 1000\tAverage Score: 26.23\n"
     ]
    }
   ],
   "source": [
    "scores = train(env, agent)"
   ]
  },
  {
   "cell_type": "markdown",
   "metadata": {},
   "source": [
    "#### Save results:"
   ]
  },
  {
   "cell_type": "code",
   "execution_count": 15,
   "metadata": {},
   "outputs": [
    {
     "name": "stdout",
     "output_type": "stream",
     "text": [
      "Learning curve saved in ddpg_vanilla-scores.csv\n"
     ]
    },
    {
     "data": {
      "image/png": "[encoded data removed]",
      "text/plain": [
       "<matplotlib.figure.Figure at 0x7f94093089b0>"
      ]
     },
     "metadata": {
      "needs_background": "light"
     },
     "output_type": "display_data"
    }
   ],
   "source": [
    "test_name = 'ddpg_vanilla'\n",
    "\n",
    "#save weights\n",
    "save_weights(agent, test_name)\n",
    "\n",
    "#save scores\n",
    "save_scores(scores, test_name)\n",
    "\n",
    "#plot and save smoothed learning curve\n",
    "plot_smooth(scores, test_name, smoothing_window = 20)"
   ]
  },
  {
   "cell_type": "markdown",
   "metadata": {},
   "source": [
    "### 2.2 Second case: DDPG with Parameter Space Noise\n",
    "\n",
    "In this case, I'll train an agent that implements a DDPG method with a vanilla Replay Buffer memory (```PER=False```) and parameter space noise (```add_noise = True; PSN=True```):"
   ]
  },
  {
   "cell_type": "code",
   "execution_count": 12,
   "metadata": {
    "collapsed": true
   },
   "outputs": [],
   "source": [
    "set_hyperparameters()\n",
    "\n",
    "#Instantiate agent\n",
    "agent = Agent(state_size=state_size, action_size=action_size, random_seed=1, add_noise = True, PER=False, PSN = True)"
   ]
  },
  {
   "cell_type": "markdown",
   "metadata": {},
   "source": [
    "#### Train"
   ]
  },
  {
   "cell_type": "code",
   "execution_count": 13,
   "metadata": {},
   "outputs": [
    {
     "name": "stderr",
     "output_type": "stream",
     "text": [
      "/opt/conda/lib/python3.6/site-packages/ipykernel_launcher.py:151: UserWarning: torch.nn.utils.clip_grad_norm is now deprecated in favor of torch.nn.utils.clip_grad_norm_.\n"
     ]
    },
    {
     "name": "stdout",
     "output_type": "stream",
     "text": [
      "Episode 100\tAverage Score: 5.39\n",
      "Episode 200\tAverage Score: 23.93\n",
      "Episode 257\tAverage Score: 31.02\n",
      "Environment solved in 257 episodes!\tAverage Score: 31.02\n"
     ]
    }
   ],
   "source": [
    "scores = train(env, agent)"
   ]
  },
  {
   "cell_type": "markdown",
   "metadata": {
    "collapsed": true
   },
   "source": [
    "#### Save results:"
   ]
  },
  {
   "cell_type": "code",
   "execution_count": 16,
   "metadata": {},
   "outputs": [
    {
     "name": "stdout",
     "output_type": "stream",
     "text": [
      "Learning curve saved in ddpg_psn-scores.csv\n"
     ]
    },
    {
     "data": {
      "image/png": "[encoded data removed]",
      "text/plain": [
       "<matplotlib.figure.Figure at 0x7faf5339d940>"
      ]
     },
     "metadata": {
      "needs_background": "light"
     },
     "output_type": "display_data"
    }
   ],
   "source": [
    "test_name = 'ddpg_psn'\n",
    "\n",
    "#save weights\n",
    "save_weights(agent, test_name)\n",
    "\n",
    "#save scores\n",
    "save_scores(scores, test_name)\n",
    "\n",
    "#plot and save smoothed learning curve\n",
    "plot_smooth(scores, test_name, smoothing_window = 20)"
   ]
  },
  {
   "cell_type": "markdown",
   "metadata": {
    "collapsed": true
   },
   "source": [
    "### 2.3 Third case: DDPG with Prioritized Experience Replay\n",
    "\n",
    "In this case, I'll train an agent that implements a DDPG method with a Prioritized Experience Replay buffer memory (```PER=True```) and stochastic action space noise (```add_noise = True; PSN=False```):"
   ]
  },
  {
   "cell_type": "code",
   "execution_count": 19,
   "metadata": {
    "collapsed": true
   },
   "outputs": [],
   "source": [
    "set_hyperparameters()\n",
    "\n",
    "#Instantiate agent\n",
    "agent = Agent(state_size=state_size, action_size=action_size, random_seed=1, add_noise = True, PER=True, PSN = False)"
   ]
  },
  {
   "cell_type": "markdown",
   "metadata": {},
   "source": [
    "#### Train:"
   ]
  },
  {
   "cell_type": "code",
   "execution_count": 20,
   "metadata": {},
   "outputs": [
    {
     "name": "stderr",
     "output_type": "stream",
     "text": [
      "C:\\Users\\nbbor\\Anaconda3\\envs\\mytf\\lib\\site-packages\\ipykernel_launcher.py:131: UserWarning: torch.nn.utils.clip_grad_norm is now deprecated in favor of torch.nn.utils.clip_grad_norm_.\n"
     ]
    },
    {
     "name": "stdout",
     "output_type": "stream",
     "text": [
      "Episode 100\tAverage Score: 3.77\n",
      "Episode 200\tAverage Score: 9.60\n",
      "Episode 300\tAverage Score: 16.01\n",
      "Episode 400\tAverage Score: 26.62\n",
      "Episode 452\tAverage Score: 31.03\n",
      "Environment solved in 452 episodes!\tAverage Score: 31.03\n"
     ]
    }
   ],
   "source": [
    "scores = train(env, agent)"
   ]
  },
  {
   "cell_type": "markdown",
   "metadata": {},
   "source": [
    "#### Save results:"
   ]
  },
  {
   "cell_type": "code",
   "execution_count": 21,
   "metadata": {},
   "outputs": [
    {
     "name": "stdout",
     "output_type": "stream",
     "text": [
      "Learning curve saved in ddpg_per-scores.csv\n"
     ]
    },
    {
     "data": {
      "image/png": "[encoded data removed]",
      "text/plain": [
       "<matplotlib.figure.Figure at 0x1b6bdb37278>"
      ]
     },
     "metadata": {},
     "output_type": "display_data"
    }
   ],
   "source": [
    "test_name = 'ddpg_per'\n",
    "\n",
    "#save weights\n",
    "save_weights(agent, test_name)\n",
    "\n",
    "#save scores\n",
    "save_scores(scores, test_name)\n",
    "\n",
    "#plot and save smoothed learning curve\n",
    "plot_smooth(scores, test_name, smoothing_window = 20)"
   ]
  },
  {
   "cell_type": "markdown",
   "metadata": {},
   "source": [
    "### 2.4 Fourth case: DDPG with Prioritized Experience Replay and Parameter Space Noise\n",
    "\n",
    "Finally, I'll train an agent that implements a DDPG method with a Prioritized Experience Replay buffer memory (```PER=True```) and Parameter Space Noise (```add_noise = True; PSN=True```) all combined:"
   ]
  },
  {
   "cell_type": "code",
   "execution_count": 23,
   "metadata": {
    "collapsed": true
   },
   "outputs": [],
   "source": [
    "set_hyperparameters()\n",
    "\n",
    "#Instantiate agent\n",
    "agent = Agent(state_size=state_size, action_size=action_size, random_seed=1, add_noise = True, PER = True, PSN = True)"
   ]
  },
  {
   "cell_type": "markdown",
   "metadata": {},
   "source": [
    "#### Train:"
   ]
  },
  {
   "cell_type": "code",
   "execution_count": 24,
   "metadata": {},
   "outputs": [
    {
     "name": "stderr",
     "output_type": "stream",
     "text": [
      "C:\\Users\\nbbor\\Anaconda3\\envs\\mytf\\lib\\site-packages\\ipykernel_launcher.py:131: UserWarning: torch.nn.utils.clip_grad_norm is now deprecated in favor of torch.nn.utils.clip_grad_norm_.\n"
     ]
    },
    {
     "name": "stdout",
     "output_type": "stream",
     "text": [
      "Episode 100\tAverage Score: 3.71\n",
      "Episode 200\tAverage Score: 15.31\n",
      "Episode 276\tAverage Score: 31.05\n",
      "Environment solved in 276 episodes!\tAverage Score: 31.05\n"
     ]
    }
   ],
   "source": [
    "scores = train(env, agent)"
   ]
  },
  {
   "cell_type": "markdown",
   "metadata": {},
   "source": [
    "#### Save Results:"
   ]
  },
  {
   "cell_type": "code",
   "execution_count": 25,
   "metadata": {},
   "outputs": [
    {
     "name": "stdout",
     "output_type": "stream",
     "text": [
      "Learning curve saved in ddpg_per_psn-scores.csv\n"
     ]
    },
    {
     "data": {
      "image/png": "[encoded data removed]",
      "text/plain": [
       "<matplotlib.figure.Figure at 0x1b6a2c58048>"
      ]
     },
     "metadata": {},
     "output_type": "display_data"
    }
   ],
   "source": [
    "test_name = 'ddpg_per_psn'\n",
    "\n",
    "#save weights\n",
    "save_weights(agent, test_name)\n",
    "\n",
    "#save scores\n",
    "save_scores(scores, test_name)\n",
    "\n",
    "#plot and save smoothed learning curve\n",
    "plot_smooth(scores, test_name, smoothing_window = 20)"
   ]
  },
  {
   "cell_type": "code",
   "execution_count": 26,
   "metadata": {
    "collapsed": true
   },
   "outputs": [],
   "source": [
    "env.close()"
   ]
  },
  {
   "cell_type": "markdown",
   "metadata": {},
   "source": [
    "## 3. Analysis of results"
   ]
  },
  {
   "cell_type": "markdown",
   "metadata": {},
   "source": [
    "Results shown that while the vanilla DDPG agent needs more than 1000 episodes to solve with the chosen set of hyperparameters (it worth to notice no hyperparameter tuning was performed), when switching the noise process to an adaptative noise in the state parameters (actor weights) the learning curve improves drastically. On the other hand, while sampling experiences in a prioritized way also improves the learning process, it also drastically increases the training wall time, mostly because the implementation of PER I made is the naive one, where the sampling process turns into a binary search of complexity O(n). The following curve shows all learning curves together for comparison: "
   ]
  },
  {
   "cell_type": "code",
   "execution_count": 36,
   "metadata": {},
   "outputs": [
    {
     "data": {
      "image/png": "[encoded data removed]",
      "text/plain": [
       "<matplotlib.figure.Figure at 0x1b6a99549b0>"
      ]
     },
     "metadata": {},
     "output_type": "display_data"
    }
   ],
   "source": [
    "test_names = ['ddpg_vanilla', 'ddpg_per', 'ddpg_psn', 'ddpg_per_psn']\n",
    "plot_rewards(test_names)"
   ]
  },
  {
   "cell_type": "markdown",
   "metadata": {},
   "source": [
    "We can see that all agents but vanilla DDPG are able to solve the environment in less than 1000 episodes, where the solving criteria is having an average reward greater than 30 in 100 consecutive episodes."
   ]
  },
  {
   "cell_type": "markdown",
   "metadata": {},
   "source": [
    "## 4. Further improvements"
   ]
  },
  {
   "cell_type": "markdown",
   "metadata": {},
   "source": [
    "As further work I'd start by conducting a careful hyperparameter tuning, making the vanilla DDPG agent being able to solve the environment in less than 1000 episodes. Also, it became clear that a better implementation of PER is needed, perhaps implementing a more efficient data structure for the sampling step in order to reduce the complexity (hopefully O(log(n)) ). Finally, as this project only considers one single agent learning in isolation, it worth to explore distributed learning algorithms such as A3C, D4PG, etc."
   ]
  }
 ],
 "metadata": {
  "kernelspec": {
   "display_name": "Python 3",
   "language": "python",
   "name": "python3"
  },
  "language_info": {
   "codemirror_mode": {
    "name": "ipython",
    "version": 3
   },
   "file_extension": ".py",
   "mimetype": "text/x-python",
   "name": "python",
   "nbconvert_exporter": "python",
   "pygments_lexer": "ipython3",
   "version": "3.6.3"
  }
 },
 "nbformat": 4,
 "nbformat_minor": 2
}
